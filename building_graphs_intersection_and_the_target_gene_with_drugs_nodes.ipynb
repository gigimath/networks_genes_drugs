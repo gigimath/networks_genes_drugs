{
 "cells": [
  {
   "cell_type": "markdown",
   "id": "828957d2",
   "metadata": {},
   "source": [
    "# open my gene data"
   ]
  },
  {
   "cell_type": "code",
   "execution_count": 1,
   "id": "0de4cc42",
   "metadata": {},
   "outputs": [],
   "source": [
    "import pickle\n",
    "\n",
    "with open(\"intersection_list\", \"rb\") as fp:   # Unpickling\n",
    "    intersection_list = pickle.load(fp)"
   ]
  },
  {
   "cell_type": "code",
   "execution_count": 2,
   "id": "c9c0d035",
   "metadata": {},
   "outputs": [
    {
     "name": "stdout",
     "output_type": "stream",
     "text": [
      "['HTRA1', 'COL1A2', 'AQP1', 'THY1', 'MXRA5', 'CRLF1', 'MT1H', 'SLPI', 'ASPN', 'TGFBI', 'TPPP3', 'BEX2', 'COL5A1']\n",
      "13\n"
     ]
    }
   ],
   "source": [
    "print(intersection_list)\n",
    "print(len(intersection_list))"
   ]
  },
  {
   "cell_type": "code",
   "execution_count": 3,
   "id": "a9a33e06",
   "metadata": {},
   "outputs": [
    {
     "name": "stdout",
     "output_type": "stream",
     "text": [
      "['PDE5A', 'PDE4D', 'PPARG', 'SCN5A', 'ESR1', 'TBXA2R', 'PTGER2', 'ROCK1', 'GABRG3', 'NR3C1', 'PRKACA', 'Stap-coc pbp2', 'PRKCA', 'F10', 'DRD2', 'GRIN1', 'GRIN2A', 'GRIN2B', 'ADORA3', 'DRD2', 'CHRM5', 'NR3C1', 'CACNA1G', 'PDF', 'LIPE', 'Bact mrcA', 'PTGS2', 'GABBR1', 'GABBR2', 'MTNR1A', 'NQO2', 'HRH1', 'HSV UL30', 'CYP19A1', 'SLC19A1', 'SLC46A1', 'NR3C1', 'PTGS1', 'SLC6A2', 'ABCC8', 'ABCC9']\n",
      "41\n"
     ]
    }
   ],
   "source": [
    "f = open(\"prioritization_targets_top5percent.txt\", \"r\")\n",
    "target_gene = f.read()\n",
    "target_gene = target_gene.split(\"\\n\")\n",
    "target_gene.remove('')\n",
    "print(target_gene)\n",
    "print(len(target_gene))"
   ]
  },
  {
   "cell_type": "code",
   "execution_count": 4,
   "id": "8da2784e",
   "metadata": {},
   "outputs": [
    {
     "data": {
      "text/plain": [
       "38"
      ]
     },
     "execution_count": 4,
     "metadata": {},
     "output_type": "execute_result"
    }
   ],
   "source": [
    "len(set(target_gene))"
   ]
  },
  {
   "cell_type": "code",
   "execution_count": 5,
   "id": "44b10ba6",
   "metadata": {},
   "outputs": [
    {
     "data": {
      "text/plain": [
       "51"
      ]
     },
     "execution_count": 5,
     "metadata": {},
     "output_type": "execute_result"
    }
   ],
   "source": [
    "set_gene_full = list(set(intersection_list+target_gene))\n",
    "len(set_gene_full)"
   ]
  },
  {
   "cell_type": "code",
   "execution_count": 6,
   "id": "6f43ca17",
   "metadata": {},
   "outputs": [],
   "source": [
    "for name in intersection_list:\n",
    "    if name in target_gene:\n",
    "        print(name)"
   ]
  },
  {
   "cell_type": "markdown",
   "id": "06a8a805",
   "metadata": {},
   "source": [
    "# open PPI full string DB"
   ]
  },
  {
   "cell_type": "code",
   "execution_count": 7,
   "id": "c9333067",
   "metadata": {},
   "outputs": [],
   "source": [
    "import pandas as pd\n",
    "\n",
    "path = r'C:\\Users\\luigi\\jupyterWorks\\progetto network francesco-mariaclaudia\\protein protein interaction stringDB'\n",
    "\n",
    "protein_info_file = '\\9606.protein.info.v11.5.txt'\n",
    "# protein_links_file = '\\9606.protein.links.v11.5.txt'\n",
    "protein_links_file = '\\9606.protein.links.detailed.v11.5.txt'"
   ]
  },
  {
   "cell_type": "code",
   "execution_count": 8,
   "id": "6ad2dd87",
   "metadata": {},
   "outputs": [
    {
     "name": "stdout",
     "output_type": "stream",
     "text": [
      "pif columns : Index(['#string_protein_id', 'preferred_name', 'protein_size', 'annotation'], dtype='object')\n",
      "rows number : 19566\n"
     ]
    },
    {
     "data": {
      "text/html": [
       "<div>\n",
       "<style scoped>\n",
       "    .dataframe tbody tr th:only-of-type {\n",
       "        vertical-align: middle;\n",
       "    }\n",
       "\n",
       "    .dataframe tbody tr th {\n",
       "        vertical-align: top;\n",
       "    }\n",
       "\n",
       "    .dataframe thead th {\n",
       "        text-align: right;\n",
       "    }\n",
       "</style>\n",
       "<table border=\"1\" class=\"dataframe\">\n",
       "  <thead>\n",
       "    <tr style=\"text-align: right;\">\n",
       "      <th></th>\n",
       "      <th>#string_protein_id</th>\n",
       "      <th>preferred_name</th>\n",
       "      <th>protein_size</th>\n",
       "      <th>annotation</th>\n",
       "    </tr>\n",
       "  </thead>\n",
       "  <tbody>\n",
       "    <tr>\n",
       "      <th>0</th>\n",
       "      <td>9606.ENSP00000000233</td>\n",
       "      <td>ARF5</td>\n",
       "      <td>180</td>\n",
       "      <td>ADP-ribosylation factor 5; GTP-binding protein...</td>\n",
       "    </tr>\n",
       "    <tr>\n",
       "      <th>1</th>\n",
       "      <td>9606.ENSP00000000412</td>\n",
       "      <td>M6PR</td>\n",
       "      <td>277</td>\n",
       "      <td>Cation-dependent mannose-6-phosphate receptor;...</td>\n",
       "    </tr>\n",
       "    <tr>\n",
       "      <th>2</th>\n",
       "      <td>9606.ENSP00000001008</td>\n",
       "      <td>FKBP4</td>\n",
       "      <td>459</td>\n",
       "      <td>Peptidyl-prolyl cis-trans isomerase FKBP4; Imm...</td>\n",
       "    </tr>\n",
       "    <tr>\n",
       "      <th>3</th>\n",
       "      <td>9606.ENSP00000001146</td>\n",
       "      <td>CYP26B1</td>\n",
       "      <td>512</td>\n",
       "      <td>Cytochrome P450 26B1; Involved in the metaboli...</td>\n",
       "    </tr>\n",
       "    <tr>\n",
       "      <th>4</th>\n",
       "      <td>9606.ENSP00000002125</td>\n",
       "      <td>NDUFAF7</td>\n",
       "      <td>441</td>\n",
       "      <td>Protein arginine methyltransferase NDUFAF7, mi...</td>\n",
       "    </tr>\n",
       "  </tbody>\n",
       "</table>\n",
       "</div>"
      ],
      "text/plain": [
       "     #string_protein_id preferred_name  protein_size  \\\n",
       "0  9606.ENSP00000000233           ARF5           180   \n",
       "1  9606.ENSP00000000412           M6PR           277   \n",
       "2  9606.ENSP00000001008          FKBP4           459   \n",
       "3  9606.ENSP00000001146        CYP26B1           512   \n",
       "4  9606.ENSP00000002125        NDUFAF7           441   \n",
       "\n",
       "                                          annotation  \n",
       "0  ADP-ribosylation factor 5; GTP-binding protein...  \n",
       "1  Cation-dependent mannose-6-phosphate receptor;...  \n",
       "2  Peptidyl-prolyl cis-trans isomerase FKBP4; Imm...  \n",
       "3  Cytochrome P450 26B1; Involved in the metaboli...  \n",
       "4  Protein arginine methyltransferase NDUFAF7, mi...  "
      ]
     },
     "execution_count": 8,
     "metadata": {},
     "output_type": "execute_result"
    }
   ],
   "source": [
    "pif = pd.read_csv(path+protein_info_file, sep=\"\\t\")\n",
    "print('pif columns :',pif.columns)\n",
    "print('rows number :',len(pif))\n",
    "pif.head()"
   ]
  },
  {
   "cell_type": "code",
   "execution_count": 9,
   "id": "cb75a3f2",
   "metadata": {},
   "outputs": [],
   "source": [
    "names_full_proteins = list(pif['preferred_name'])"
   ]
  },
  {
   "cell_type": "code",
   "execution_count": 10,
   "id": "09286251",
   "metadata": {},
   "outputs": [
    {
     "name": "stdout",
     "output_type": "stream",
     "text": [
      "HSV UL30 absent\n",
      "Stap-coc pbp2 absent\n",
      "Bact mrcA absent\n",
      "\n",
      "Number of absent proteins: 3\n"
     ]
    }
   ],
   "source": [
    "k = 0\n",
    "for name in set_gene_full:\n",
    "    if name not in names_full_proteins:\n",
    "        print(name,'absent')\n",
    "        k+=1\n",
    "print('\\nNumber of absent proteins:',k)"
   ]
  },
  {
   "cell_type": "code",
   "execution_count": 11,
   "id": "4ba32b7f",
   "metadata": {},
   "outputs": [
    {
     "name": "stdout",
     "output_type": "stream",
     "text": [
      "plf columns : Index(['protein1', 'protein2', 'neighborhood', 'fusion', 'cooccurence',\n",
      "       'coexpression', 'experimental', 'database', 'textmining',\n",
      "       'combined_score'],\n",
      "      dtype='object')\n",
      "rows number : 11938498\n"
     ]
    },
    {
     "data": {
      "text/html": [
       "<div>\n",
       "<style scoped>\n",
       "    .dataframe tbody tr th:only-of-type {\n",
       "        vertical-align: middle;\n",
       "    }\n",
       "\n",
       "    .dataframe tbody tr th {\n",
       "        vertical-align: top;\n",
       "    }\n",
       "\n",
       "    .dataframe thead th {\n",
       "        text-align: right;\n",
       "    }\n",
       "</style>\n",
       "<table border=\"1\" class=\"dataframe\">\n",
       "  <thead>\n",
       "    <tr style=\"text-align: right;\">\n",
       "      <th></th>\n",
       "      <th>protein1</th>\n",
       "      <th>protein2</th>\n",
       "      <th>neighborhood</th>\n",
       "      <th>fusion</th>\n",
       "      <th>cooccurence</th>\n",
       "      <th>coexpression</th>\n",
       "      <th>experimental</th>\n",
       "      <th>database</th>\n",
       "      <th>textmining</th>\n",
       "      <th>combined_score</th>\n",
       "    </tr>\n",
       "  </thead>\n",
       "  <tbody>\n",
       "    <tr>\n",
       "      <th>0</th>\n",
       "      <td>9606.ENSP00000000233</td>\n",
       "      <td>9606.ENSP00000379496</td>\n",
       "      <td>0</td>\n",
       "      <td>0</td>\n",
       "      <td>0</td>\n",
       "      <td>54</td>\n",
       "      <td>0</td>\n",
       "      <td>0</td>\n",
       "      <td>144</td>\n",
       "      <td>155</td>\n",
       "    </tr>\n",
       "    <tr>\n",
       "      <th>1</th>\n",
       "      <td>9606.ENSP00000000233</td>\n",
       "      <td>9606.ENSP00000314067</td>\n",
       "      <td>0</td>\n",
       "      <td>0</td>\n",
       "      <td>0</td>\n",
       "      <td>0</td>\n",
       "      <td>180</td>\n",
       "      <td>0</td>\n",
       "      <td>61</td>\n",
       "      <td>197</td>\n",
       "    </tr>\n",
       "    <tr>\n",
       "      <th>2</th>\n",
       "      <td>9606.ENSP00000000233</td>\n",
       "      <td>9606.ENSP00000263116</td>\n",
       "      <td>0</td>\n",
       "      <td>0</td>\n",
       "      <td>0</td>\n",
       "      <td>62</td>\n",
       "      <td>152</td>\n",
       "      <td>0</td>\n",
       "      <td>101</td>\n",
       "      <td>222</td>\n",
       "    </tr>\n",
       "    <tr>\n",
       "      <th>3</th>\n",
       "      <td>9606.ENSP00000000233</td>\n",
       "      <td>9606.ENSP00000361263</td>\n",
       "      <td>0</td>\n",
       "      <td>0</td>\n",
       "      <td>0</td>\n",
       "      <td>0</td>\n",
       "      <td>161</td>\n",
       "      <td>0</td>\n",
       "      <td>64</td>\n",
       "      <td>181</td>\n",
       "    </tr>\n",
       "    <tr>\n",
       "      <th>4</th>\n",
       "      <td>9606.ENSP00000000233</td>\n",
       "      <td>9606.ENSP00000409666</td>\n",
       "      <td>0</td>\n",
       "      <td>0</td>\n",
       "      <td>0</td>\n",
       "      <td>82</td>\n",
       "      <td>213</td>\n",
       "      <td>0</td>\n",
       "      <td>72</td>\n",
       "      <td>270</td>\n",
       "    </tr>\n",
       "  </tbody>\n",
       "</table>\n",
       "</div>"
      ],
      "text/plain": [
       "               protein1              protein2  neighborhood  fusion  \\\n",
       "0  9606.ENSP00000000233  9606.ENSP00000379496             0       0   \n",
       "1  9606.ENSP00000000233  9606.ENSP00000314067             0       0   \n",
       "2  9606.ENSP00000000233  9606.ENSP00000263116             0       0   \n",
       "3  9606.ENSP00000000233  9606.ENSP00000361263             0       0   \n",
       "4  9606.ENSP00000000233  9606.ENSP00000409666             0       0   \n",
       "\n",
       "   cooccurence  coexpression  experimental  database  textmining  \\\n",
       "0            0            54             0         0         144   \n",
       "1            0             0           180         0          61   \n",
       "2            0            62           152         0         101   \n",
       "3            0             0           161         0          64   \n",
       "4            0            82           213         0          72   \n",
       "\n",
       "   combined_score  \n",
       "0             155  \n",
       "1             197  \n",
       "2             222  \n",
       "3             181  \n",
       "4             270  "
      ]
     },
     "execution_count": 11,
     "metadata": {},
     "output_type": "execute_result"
    }
   ],
   "source": [
    "plf = pd.read_csv(path+protein_links_file, sep=\" \")\n",
    "print('plf columns :',plf.columns)\n",
    "print('rows number :',len(plf))\n",
    "\n",
    "plf.head()"
   ]
  },
  {
   "cell_type": "code",
   "execution_count": 12,
   "id": "1a1808c7",
   "metadata": {},
   "outputs": [],
   "source": [
    "plf = plf[['protein1', 'protein2', 'neighborhood', 'fusion', 'cooccurence',\n",
    "       'coexpression', 'experimental', 'database', 'combined_score']]"
   ]
  },
  {
   "cell_type": "markdown",
   "id": "9cfa5351",
   "metadata": {},
   "source": [
    "# open dataset drugs - genes target"
   ]
  },
  {
   "cell_type": "code",
   "execution_count": 13,
   "id": "563362ca",
   "metadata": {},
   "outputs": [
    {
     "name": "stdout",
     "output_type": "stream",
     "text": [
      "df_drugs_gene columns : Index(['Drug', 'Targets'], dtype='object')\n",
      "rows number : 566\n"
     ]
    },
    {
     "data": {
      "text/html": [
       "<div>\n",
       "<style scoped>\n",
       "    .dataframe tbody tr th:only-of-type {\n",
       "        vertical-align: middle;\n",
       "    }\n",
       "\n",
       "    .dataframe tbody tr th {\n",
       "        vertical-align: top;\n",
       "    }\n",
       "\n",
       "    .dataframe thead th {\n",
       "        text-align: right;\n",
       "    }\n",
       "</style>\n",
       "<table border=\"1\" class=\"dataframe\">\n",
       "  <thead>\n",
       "    <tr style=\"text-align: right;\">\n",
       "      <th></th>\n",
       "      <th>Drug</th>\n",
       "      <th>Targets</th>\n",
       "    </tr>\n",
       "  </thead>\n",
       "  <tbody>\n",
       "    <tr>\n",
       "      <th>4</th>\n",
       "      <td>papaverine</td>\n",
       "      <td>PDE5A, PDE4D</td>\n",
       "    </tr>\n",
       "    <tr>\n",
       "      <th>5</th>\n",
       "      <td>pioglitazone</td>\n",
       "      <td>PPARG</td>\n",
       "    </tr>\n",
       "    <tr>\n",
       "      <th>7</th>\n",
       "      <td>mephenytoin</td>\n",
       "      <td>SCN5A</td>\n",
       "    </tr>\n",
       "    <tr>\n",
       "      <th>8</th>\n",
       "      <td>fulvestrant</td>\n",
       "      <td>ESR1</td>\n",
       "    </tr>\n",
       "    <tr>\n",
       "      <th>9</th>\n",
       "      <td>alprostadil</td>\n",
       "      <td>TBXA2R, PTGER2</td>\n",
       "    </tr>\n",
       "  </tbody>\n",
       "</table>\n",
       "</div>"
      ],
      "text/plain": [
       "           Drug         Targets\n",
       "4    papaverine    PDE5A, PDE4D\n",
       "5  pioglitazone           PPARG\n",
       "7   mephenytoin           SCN5A\n",
       "8   fulvestrant            ESR1\n",
       "9   alprostadil  TBXA2R, PTGER2"
      ]
     },
     "execution_count": 13,
     "metadata": {},
     "output_type": "execute_result"
    }
   ],
   "source": [
    "import pandas as pd\n",
    "\n",
    "file_name = 'gene2drug_OA_UPandDN-corretto-TTD.xlsx'\n",
    "df_drugs_gene = pd.read_excel(file_name)\n",
    "df_drugs_gene = df_drugs_gene[['Drug','Targets']]\n",
    "df_drugs_gene = df_drugs_gene.dropna()\n",
    "print('df_drugs_gene columns :',df_drugs_gene.columns)\n",
    "print('rows number :',len(df_drugs_gene))\n",
    "df_drugs_gene.head()"
   ]
  },
  {
   "cell_type": "code",
   "execution_count": 14,
   "id": "27f5b488",
   "metadata": {},
   "outputs": [
    {
     "data": {
      "text/plain": [
       "566"
      ]
     },
     "execution_count": 14,
     "metadata": {},
     "output_type": "execute_result"
    }
   ],
   "source": [
    "len(df_drugs_gene['Drug'].unique())"
   ]
  },
  {
   "cell_type": "code",
   "execution_count": 15,
   "id": "90ad4bbc",
   "metadata": {},
   "outputs": [
    {
     "data": {
      "text/plain": [
       "['PDE5A', 'PDE4D']"
      ]
     },
     "execution_count": 15,
     "metadata": {},
     "output_type": "execute_result"
    }
   ],
   "source": [
    "df_drugs_gene[df_drugs_gene['Drug'] == 'papaverine'].values[0][1].split(', ')"
   ]
  },
  {
   "cell_type": "code",
   "execution_count": 16,
   "id": "77f53d1d",
   "metadata": {},
   "outputs": [
    {
     "data": {
      "text/plain": [
       "['PPARG']"
      ]
     },
     "execution_count": 16,
     "metadata": {},
     "output_type": "execute_result"
    }
   ],
   "source": [
    "df_drugs_gene[df_drugs_gene['Drug'] == 'pioglitazone'].values[0][1].split(', ')"
   ]
  },
  {
   "cell_type": "code",
   "execution_count": 17,
   "id": "06957c15",
   "metadata": {
    "scrolled": true
   },
   "outputs": [],
   "source": [
    "dfpd = []\n",
    "max_importance = 100\n",
    "for index in df_drugs_gene.index:\n",
    "    if index > max_importance:\n",
    "        break\n",
    "    drug = df_drugs_gene[df_drugs_gene.index == index].values[0][0]\n",
    "    targets = df_drugs_gene[df_drugs_gene.index == index].values[0][1].split(', ')\n",
    "    for target in targets:\n",
    "        dfpd.append([drug,target,1])\n",
    "    \n",
    "    "
   ]
  },
  {
   "cell_type": "code",
   "execution_count": 18,
   "id": "96760101",
   "metadata": {
    "scrolled": true
   },
   "outputs": [
    {
     "data": {
      "text/plain": [
       "[['papaverine', 'PDE5A', 1],\n",
       " ['papaverine', 'PDE4D', 1],\n",
       " ['pioglitazone', 'PPARG', 1],\n",
       " ['mephenytoin', 'SCN5A', 1],\n",
       " ['fulvestrant', 'ESR1', 1],\n",
       " ['alprostadil', 'TBXA2R', 1],\n",
       " ['alprostadil', 'PTGER2', 1],\n",
       " ['fasudil', 'ROCK1', 1],\n",
       " ['etomidate', 'GABRG3', 1],\n",
       " ['prednisone', 'NR3C1', 1],\n",
       " ['H-89', 'PRKACA', 1],\n",
       " ['rolitetracycline', 'Stap-coc pbp2', 1],\n",
       " ['sodium_phenylbutyrate', 'PRKCA', 1],\n",
       " ['octopamine', 'F10', 1],\n",
       " ['eticlopride', 'DRD2', 1],\n",
       " ['dizocilpine', 'GRIN1', 1],\n",
       " ['dizocilpine', 'GRIN2A', 1],\n",
       " ['dizocilpine', 'GRIN2B', 1],\n",
       " ['dizocilpine', 'ADORA3', 1],\n",
       " ['methyldopa', 'DRD2', 1],\n",
       " ['tridihexethyl', 'CHRM5', 1],\n",
       " ['hydrocortisone', 'NR3C1', 1],\n",
       " ['verapamil', 'CACNA1G', 1],\n",
       " ['proguanil', 'PDF', 1],\n",
       " ['oxybenzone', 'LIPE', 1],\n",
       " ['aztreonam', 'Bact mrcA', 1],\n",
       " ['tiaprofenic_acid', 'PTGS2', 1],\n",
       " ['gabapentin', 'GABBR1; GABBR2', 1],\n",
       " ['melatonin', 'MTNR1A', 1],\n",
       " ['melatonin', 'NQO2', 1],\n",
       " ['triprolidine', 'HRH1', 1],\n",
       " ['betulinic_acid', 'HSV UL30', 1],\n",
       " ['letrozole', 'CYP19A1', 1],\n",
       " ['folic_acid', 'SLC19A1', 1],\n",
       " ['folic_acid', 'SLC46A1', 1],\n",
       " ['mometasone', 'NR3C1', 1],\n",
       " ['suprofen', 'PTGS1', 1],\n",
       " ['maprotiline', 'SLC6A2', 1],\n",
       " ['glimepiride', 'ABCC8', 1],\n",
       " ['glimepiride', 'ABCC9', 1],\n",
       " ['zidovudine', 'FLT3', 1],\n",
       " ['zidovudine', 'HIV RT', 1],\n",
       " ['diethylstilbestrol', 'ESR1', 1],\n",
       " ['azathioprine', 'PPAT', 1],\n",
       " ['ozagrel', 'MAPK14', 1],\n",
       " ['imatinib', 'KIT', 1],\n",
       " ['imatinib', 'MCL1', 1],\n",
       " ['imatinib', 'BCR-ABL1', 1],\n",
       " ['HC_toxin', 'HDAC1', 1],\n",
       " ['trimethoprim', 'DHFR', 1],\n",
       " ['aconitine', 'SCN5A', 1],\n",
       " ['aconitine', 'SCN2A', 1],\n",
       " ['lidocaine', 'SCN11A', 1],\n",
       " ['sulpiride', 'DRD2', 1],\n",
       " ['pergolide', 'DRD2', 1],\n",
       " ['pergolide', 'DRD1', 1],\n",
       " ['kanamycin', 'Stap-coc pbp2', 1],\n",
       " ['pindolol', 'ADRB1', 1],\n",
       " ['zaprinast', 'PDE5A', 1],\n",
       " ['zaprinast', 'PDE4D', 1]]"
      ]
     },
     "execution_count": 18,
     "metadata": {},
     "output_type": "execute_result"
    }
   ],
   "source": [
    "dfpd"
   ]
  },
  {
   "cell_type": "code",
   "execution_count": 19,
   "id": "2ff7b87d",
   "metadata": {},
   "outputs": [],
   "source": [
    "dfpd = pd.DataFrame(dfpd, columns = ['drug', 'target','score'])"
   ]
  },
  {
   "cell_type": "code",
   "execution_count": 40,
   "id": "6defd040",
   "metadata": {},
   "outputs": [
    {
     "name": "stdout",
     "output_type": "stream",
     "text": [
      "len 60\n"
     ]
    },
    {
     "data": {
      "text/html": [
       "<div>\n",
       "<style scoped>\n",
       "    .dataframe tbody tr th:only-of-type {\n",
       "        vertical-align: middle;\n",
       "    }\n",
       "\n",
       "    .dataframe tbody tr th {\n",
       "        vertical-align: top;\n",
       "    }\n",
       "\n",
       "    .dataframe thead th {\n",
       "        text-align: right;\n",
       "    }\n",
       "</style>\n",
       "<table border=\"1\" class=\"dataframe\">\n",
       "  <thead>\n",
       "    <tr style=\"text-align: right;\">\n",
       "      <th></th>\n",
       "      <th>drug</th>\n",
       "      <th>target</th>\n",
       "      <th>score</th>\n",
       "    </tr>\n",
       "  </thead>\n",
       "  <tbody>\n",
       "    <tr>\n",
       "      <th>0</th>\n",
       "      <td>papaverine</td>\n",
       "      <td>PDE5A</td>\n",
       "      <td>1</td>\n",
       "    </tr>\n",
       "    <tr>\n",
       "      <th>1</th>\n",
       "      <td>papaverine</td>\n",
       "      <td>PDE4D</td>\n",
       "      <td>1</td>\n",
       "    </tr>\n",
       "    <tr>\n",
       "      <th>2</th>\n",
       "      <td>pioglitazone</td>\n",
       "      <td>PPARG</td>\n",
       "      <td>1</td>\n",
       "    </tr>\n",
       "    <tr>\n",
       "      <th>3</th>\n",
       "      <td>mephenytoin</td>\n",
       "      <td>SCN5A</td>\n",
       "      <td>1</td>\n",
       "    </tr>\n",
       "    <tr>\n",
       "      <th>4</th>\n",
       "      <td>fulvestrant</td>\n",
       "      <td>ESR1</td>\n",
       "      <td>1</td>\n",
       "    </tr>\n",
       "  </tbody>\n",
       "</table>\n",
       "</div>"
      ],
      "text/plain": [
       "           drug target  score\n",
       "0    papaverine  PDE5A      1\n",
       "1    papaverine  PDE4D      1\n",
       "2  pioglitazone  PPARG      1\n",
       "3   mephenytoin  SCN5A      1\n",
       "4   fulvestrant   ESR1      1"
      ]
     },
     "execution_count": 40,
     "metadata": {},
     "output_type": "execute_result"
    }
   ],
   "source": [
    "print('len',len(dfpd))\n",
    "dfpd.head()"
   ]
  },
  {
   "cell_type": "code",
   "execution_count": null,
   "id": "5ddd58b5",
   "metadata": {},
   "outputs": [],
   "source": []
  },
  {
   "cell_type": "markdown",
   "id": "61ace9f6",
   "metadata": {},
   "source": [
    "# extract my gene names encoded"
   ]
  },
  {
   "cell_type": "code",
   "execution_count": 20,
   "id": "89187272",
   "metadata": {},
   "outputs": [
    {
     "name": "stdout",
     "output_type": "stream",
     "text": [
      "48\n"
     ]
    }
   ],
   "source": [
    "set_gene_full_encode = []\n",
    "for name in set_gene_full:\n",
    "    if name in names_full_proteins:\n",
    "        set_gene_full_encode.append(name)\n",
    "\n",
    "print(len(set_gene_full_encode))"
   ]
  },
  {
   "cell_type": "code",
   "execution_count": 21,
   "id": "5a04f394",
   "metadata": {},
   "outputs": [],
   "source": [
    "dictUnion_gene2id = {}\n",
    "for name in set_gene_full_encode:\n",
    "    dictUnion_gene2id[name] = pif[pif['preferred_name'] == name]['#string_protein_id'].values[0]\n"
   ]
  },
  {
   "cell_type": "code",
   "execution_count": 22,
   "id": "0ee291c8",
   "metadata": {
    "scrolled": true
   },
   "outputs": [
    {
     "data": {
      "text/plain": [
       "{'ADORA3': '9606.ENSP00000358730',\n",
       " 'ABCC9': '9606.ENSP00000261200',\n",
       " 'AQP1': '9606.ENSP00000311165',\n",
       " 'THY1': '9606.ENSP00000284240',\n",
       " 'GRIN2A': '9606.ENSP00000379818',\n",
       " 'MTNR1A': '9606.ENSP00000302811',\n",
       " 'HRH1': '9606.ENSP00000380247',\n",
       " 'SLC6A2': '9606.ENSP00000219833',\n",
       " 'F10': '9606.ENSP00000364709',\n",
       " 'GRIN1': '9606.ENSP00000360608',\n",
       " 'PPARG': '9606.ENSP00000287820',\n",
       " 'DRD2': '9606.ENSP00000354859',\n",
       " 'PDE5A': '9606.ENSP00000347046',\n",
       " 'ROCK1': '9606.ENSP00000382697',\n",
       " 'HTRA1': '9606.ENSP00000357980',\n",
       " 'CRLF1': '9606.ENSP00000376188',\n",
       " 'GABBR1': '9606.ENSP00000366233',\n",
       " 'GRIN2B': '9606.ENSP00000477455',\n",
       " 'ESR1': '9606.ENSP00000405330',\n",
       " 'PRKCA': '9606.ENSP00000408695',\n",
       " 'ABCC8': '9606.ENSP00000303960',\n",
       " 'MT1H': '9606.ENSP00000330587',\n",
       " 'TBXA2R': '9606.ENSP00000393333',\n",
       " 'SCN5A': '9606.ENSP00000410257',\n",
       " 'PRKACA': '9606.ENSP00000309591',\n",
       " 'NR3C1': '9606.ENSP00000231509',\n",
       " 'CHRM5': '9606.ENSP00000372750',\n",
       " 'PDE4D': '9606.ENSP00000345502',\n",
       " 'SLPI': '9606.ENSP00000342082',\n",
       " 'PTGS2': '9606.ENSP00000356438',\n",
       " 'COL5A1': '9606.ENSP00000360882',\n",
       " 'MXRA5': '9606.ENSP00000217939',\n",
       " 'SLC46A1': '9606.ENSP00000480703',\n",
       " 'ASPN': '9606.ENSP00000364694',\n",
       " 'COL1A2': '9606.ENSP00000297268',\n",
       " 'PTGER2': '9606.ENSP00000245457',\n",
       " 'GABBR2': '9606.ENSP00000259455',\n",
       " 'SLC19A1': '9606.ENSP00000308895',\n",
       " 'PDF': '9606.ENSP00000288022',\n",
       " 'TPPP3': '9606.ENSP00000462435',\n",
       " 'CYP19A1': '9606.ENSP00000379683',\n",
       " 'CACNA1G': '9606.ENSP00000352011',\n",
       " 'BEX2': '9606.ENSP00000442521',\n",
       " 'TGFBI': '9606.ENSP00000416330',\n",
       " 'GABRG3': '9606.ENSP00000479113',\n",
       " 'PTGS1': '9606.ENSP00000354612',\n",
       " 'NQO2': '9606.ENSP00000369822',\n",
       " 'LIPE': '9606.ENSP00000244289'}"
      ]
     },
     "execution_count": 22,
     "metadata": {},
     "output_type": "execute_result"
    }
   ],
   "source": [
    "dictUnion_gene2id"
   ]
  },
  {
   "cell_type": "code",
   "execution_count": 23,
   "id": "afad6c2a",
   "metadata": {},
   "outputs": [],
   "source": [
    "dictUnion_id2gene = {}\n",
    "for k,v in dictUnion_gene2id.items():\n",
    "    dictUnion_id2gene[v]=k"
   ]
  },
  {
   "cell_type": "code",
   "execution_count": 24,
   "id": "c008f40e",
   "metadata": {},
   "outputs": [],
   "source": [
    "union_ids = list(dictUnion_gene2id.values())"
   ]
  },
  {
   "cell_type": "code",
   "execution_count": 25,
   "id": "1cbc3db5",
   "metadata": {},
   "outputs": [],
   "source": [
    "bool_p1 = list(map(lambda x: (x in union_ids) , plf['protein1']))\n",
    "plf_cropped = plf[bool_p1]"
   ]
  },
  {
   "cell_type": "code",
   "execution_count": 26,
   "id": "08d63ee3",
   "metadata": {},
   "outputs": [],
   "source": [
    "bool_p2 = list(map(lambda x: (x in union_ids) , plf_cropped['protein2']))\n",
    "plf_cropped = plf_cropped[bool_p2]"
   ]
  },
  {
   "cell_type": "code",
   "execution_count": 27,
   "id": "153e72a1",
   "metadata": {},
   "outputs": [
    {
     "name": "stdout",
     "output_type": "stream",
     "text": [
      "len: 552\n"
     ]
    },
    {
     "data": {
      "text/html": [
       "<div>\n",
       "<style scoped>\n",
       "    .dataframe tbody tr th:only-of-type {\n",
       "        vertical-align: middle;\n",
       "    }\n",
       "\n",
       "    .dataframe tbody tr th {\n",
       "        vertical-align: top;\n",
       "    }\n",
       "\n",
       "    .dataframe thead th {\n",
       "        text-align: right;\n",
       "    }\n",
       "</style>\n",
       "<table border=\"1\" class=\"dataframe\">\n",
       "  <thead>\n",
       "    <tr style=\"text-align: right;\">\n",
       "      <th></th>\n",
       "      <th>protein1</th>\n",
       "      <th>protein2</th>\n",
       "      <th>neighborhood</th>\n",
       "      <th>fusion</th>\n",
       "      <th>cooccurence</th>\n",
       "      <th>coexpression</th>\n",
       "      <th>experimental</th>\n",
       "      <th>database</th>\n",
       "      <th>combined_score</th>\n",
       "    </tr>\n",
       "  </thead>\n",
       "  <tbody>\n",
       "    <tr>\n",
       "      <th>350134</th>\n",
       "      <td>9606.ENSP00000217939</td>\n",
       "      <td>9606.ENSP00000364694</td>\n",
       "      <td>0</td>\n",
       "      <td>0</td>\n",
       "      <td>0</td>\n",
       "      <td>161</td>\n",
       "      <td>0</td>\n",
       "      <td>0</td>\n",
       "      <td>224</td>\n",
       "    </tr>\n",
       "    <tr>\n",
       "      <th>350165</th>\n",
       "      <td>9606.ENSP00000217939</td>\n",
       "      <td>9606.ENSP00000416330</td>\n",
       "      <td>0</td>\n",
       "      <td>0</td>\n",
       "      <td>0</td>\n",
       "      <td>157</td>\n",
       "      <td>0</td>\n",
       "      <td>0</td>\n",
       "      <td>178</td>\n",
       "    </tr>\n",
       "    <tr>\n",
       "      <th>350475</th>\n",
       "      <td>9606.ENSP00000217939</td>\n",
       "      <td>9606.ENSP00000284240</td>\n",
       "      <td>0</td>\n",
       "      <td>0</td>\n",
       "      <td>0</td>\n",
       "      <td>177</td>\n",
       "      <td>0</td>\n",
       "      <td>0</td>\n",
       "      <td>220</td>\n",
       "    </tr>\n",
       "    <tr>\n",
       "      <th>350529</th>\n",
       "      <td>9606.ENSP00000217939</td>\n",
       "      <td>9606.ENSP00000297268</td>\n",
       "      <td>0</td>\n",
       "      <td>0</td>\n",
       "      <td>0</td>\n",
       "      <td>533</td>\n",
       "      <td>76</td>\n",
       "      <td>0</td>\n",
       "      <td>673</td>\n",
       "    </tr>\n",
       "    <tr>\n",
       "      <th>350749</th>\n",
       "      <td>9606.ENSP00000217939</td>\n",
       "      <td>9606.ENSP00000357980</td>\n",
       "      <td>0</td>\n",
       "      <td>0</td>\n",
       "      <td>0</td>\n",
       "      <td>152</td>\n",
       "      <td>0</td>\n",
       "      <td>0</td>\n",
       "      <td>164</td>\n",
       "    </tr>\n",
       "  </tbody>\n",
       "</table>\n",
       "</div>"
      ],
      "text/plain": [
       "                    protein1              protein2  neighborhood  fusion  \\\n",
       "350134  9606.ENSP00000217939  9606.ENSP00000364694             0       0   \n",
       "350165  9606.ENSP00000217939  9606.ENSP00000416330             0       0   \n",
       "350475  9606.ENSP00000217939  9606.ENSP00000284240             0       0   \n",
       "350529  9606.ENSP00000217939  9606.ENSP00000297268             0       0   \n",
       "350749  9606.ENSP00000217939  9606.ENSP00000357980             0       0   \n",
       "\n",
       "        cooccurence  coexpression  experimental  database  combined_score  \n",
       "350134            0           161             0         0             224  \n",
       "350165            0           157             0         0             178  \n",
       "350475            0           177             0         0             220  \n",
       "350529            0           533            76         0             673  \n",
       "350749            0           152             0         0             164  "
      ]
     },
     "execution_count": 27,
     "metadata": {},
     "output_type": "execute_result"
    }
   ],
   "source": [
    "print('len:',len(plf_cropped))\n",
    "plf_cropped.head()"
   ]
  },
  {
   "cell_type": "code",
   "execution_count": 28,
   "id": "042ea4c5",
   "metadata": {},
   "outputs": [
    {
     "data": {
      "text/html": [
       "<div>\n",
       "<style scoped>\n",
       "    .dataframe tbody tr th:only-of-type {\n",
       "        vertical-align: middle;\n",
       "    }\n",
       "\n",
       "    .dataframe tbody tr th {\n",
       "        vertical-align: top;\n",
       "    }\n",
       "\n",
       "    .dataframe thead th {\n",
       "        text-align: right;\n",
       "    }\n",
       "</style>\n",
       "<table border=\"1\" class=\"dataframe\">\n",
       "  <thead>\n",
       "    <tr style=\"text-align: right;\">\n",
       "      <th></th>\n",
       "      <th>protein1</th>\n",
       "      <th>protein2</th>\n",
       "      <th>neighborhood</th>\n",
       "      <th>fusion</th>\n",
       "      <th>cooccurence</th>\n",
       "      <th>coexpression</th>\n",
       "      <th>experimental</th>\n",
       "      <th>database</th>\n",
       "      <th>combined_score</th>\n",
       "    </tr>\n",
       "  </thead>\n",
       "  <tbody>\n",
       "    <tr>\n",
       "      <th>0</th>\n",
       "      <td>MXRA5</td>\n",
       "      <td>ASPN</td>\n",
       "      <td>0</td>\n",
       "      <td>0</td>\n",
       "      <td>0</td>\n",
       "      <td>161</td>\n",
       "      <td>0</td>\n",
       "      <td>0</td>\n",
       "      <td>224</td>\n",
       "    </tr>\n",
       "    <tr>\n",
       "      <th>1</th>\n",
       "      <td>MXRA5</td>\n",
       "      <td>TGFBI</td>\n",
       "      <td>0</td>\n",
       "      <td>0</td>\n",
       "      <td>0</td>\n",
       "      <td>157</td>\n",
       "      <td>0</td>\n",
       "      <td>0</td>\n",
       "      <td>178</td>\n",
       "    </tr>\n",
       "    <tr>\n",
       "      <th>2</th>\n",
       "      <td>MXRA5</td>\n",
       "      <td>THY1</td>\n",
       "      <td>0</td>\n",
       "      <td>0</td>\n",
       "      <td>0</td>\n",
       "      <td>177</td>\n",
       "      <td>0</td>\n",
       "      <td>0</td>\n",
       "      <td>220</td>\n",
       "    </tr>\n",
       "    <tr>\n",
       "      <th>3</th>\n",
       "      <td>MXRA5</td>\n",
       "      <td>COL1A2</td>\n",
       "      <td>0</td>\n",
       "      <td>0</td>\n",
       "      <td>0</td>\n",
       "      <td>533</td>\n",
       "      <td>76</td>\n",
       "      <td>0</td>\n",
       "      <td>673</td>\n",
       "    </tr>\n",
       "    <tr>\n",
       "      <th>4</th>\n",
       "      <td>MXRA5</td>\n",
       "      <td>HTRA1</td>\n",
       "      <td>0</td>\n",
       "      <td>0</td>\n",
       "      <td>0</td>\n",
       "      <td>152</td>\n",
       "      <td>0</td>\n",
       "      <td>0</td>\n",
       "      <td>164</td>\n",
       "    </tr>\n",
       "  </tbody>\n",
       "</table>\n",
       "</div>"
      ],
      "text/plain": [
       "  protein1 protein2  neighborhood  fusion  cooccurence  coexpression  \\\n",
       "0    MXRA5     ASPN             0       0            0           161   \n",
       "1    MXRA5    TGFBI             0       0            0           157   \n",
       "2    MXRA5     THY1             0       0            0           177   \n",
       "3    MXRA5   COL1A2             0       0            0           533   \n",
       "4    MXRA5    HTRA1             0       0            0           152   \n",
       "\n",
       "   experimental  database  combined_score  \n",
       "0             0         0             224  \n",
       "1             0         0             178  \n",
       "2             0         0             220  \n",
       "3            76         0             673  \n",
       "4             0         0             164  "
      ]
     },
     "execution_count": 28,
     "metadata": {},
     "output_type": "execute_result"
    }
   ],
   "source": [
    "plf_cropped_names = {'protein1':[],'protein2':[],'neighborhood':[], 'fusion':[], 'cooccurence':[], 'coexpression':[], 'experimental':[], 'database':[], 'combined_score':[]}\n",
    "for k in plf_cropped.index:\n",
    "    p1,p2,w1,w2,w3,w4,w5,w6,w7 = list(plf_cropped[plf_cropped.index == k].values[0])\n",
    "    plf_cropped_names['protein1'] += list([dictUnion_id2gene[p1]])\n",
    "    plf_cropped_names['protein2'] += list([dictUnion_id2gene[p2]])\n",
    "    plf_cropped_names['neighborhood'].append(w1)\n",
    "    plf_cropped_names['fusion'].append(w2)\n",
    "    plf_cropped_names['cooccurence'].append(w3)\n",
    "    plf_cropped_names['coexpression'].append(w4)\n",
    "    plf_cropped_names['experimental'].append(w5)\n",
    "    plf_cropped_names['database'].append(w6)\n",
    "    plf_cropped_names['combined_score'].append(w7)\n",
    "\n",
    "df_names = pd.DataFrame(data=plf_cropped_names)\n",
    "df_names.head()"
   ]
  },
  {
   "cell_type": "code",
   "execution_count": 29,
   "id": "d82e5ba9",
   "metadata": {
    "scrolled": true
   },
   "outputs": [
    {
     "name": "stdout",
     "output_type": "stream",
     "text": [
      "neighborhood\n",
      "(-0.002, -0.0006]       0\n",
      "(-0.0006, -0.0002]      0\n",
      "(-0.0002, 0.0002]     552\n",
      "(0.0002, 0.0006]        0\n",
      "(0.0006, 0.001]         0\n",
      "Name: neighborhood, dtype: int64\n",
      "\n",
      "fusion\n",
      "(-0.003, 0.4]    550\n",
      "(0.4, 0.8]         0\n",
      "(0.8, 1.2]         0\n",
      "(1.2, 1.6]         0\n",
      "(1.6, 2.0]         2\n",
      "Name: fusion, dtype: int64\n",
      "\n",
      "cooccurence\n",
      "(-0.104, 20.6]    546\n",
      "(20.6, 41.2]        0\n",
      "(41.2, 61.8]        4\n",
      "(61.8, 82.4]        0\n",
      "(82.4, 103.0]       2\n",
      "Name: cooccurence, dtype: int64\n",
      "\n",
      "coexpression\n",
      "(-0.725, 144.8]    480\n",
      "(144.8, 289.6]      62\n",
      "(289.6, 434.4]       4\n",
      "(434.4, 579.2]       4\n",
      "(579.2, 724.0]       2\n",
      "Name: coexpression, dtype: int64\n",
      "\n",
      "experimental\n",
      "(-0.999, 199.6]    514\n",
      "(199.6, 399.2]      20\n",
      "(399.2, 598.8]       6\n",
      "(598.8, 798.4]       2\n",
      "(798.4, 998.0]      10\n",
      "Name: experimental, dtype: int64\n",
      "\n",
      "database\n",
      "(-0.901, 180.0]    508\n",
      "(180.0, 360.0]       0\n",
      "(360.0, 540.0]       6\n",
      "(540.0, 720.0]      10\n",
      "(720.0, 900.0]      28\n",
      "Name: database, dtype: int64\n",
      "\n",
      "combined_score\n",
      "(149.15, 319.8]    356\n",
      "(319.8, 489.6]      80\n",
      "(489.6, 659.4]      50\n",
      "(659.4, 829.2]      28\n",
      "(829.2, 999.0]      38\n",
      "Name: combined_score, dtype: int64\n",
      "\n"
     ]
    }
   ],
   "source": [
    "score_list = ['neighborhood', 'fusion', 'cooccurence', 'coexpression', 'experimental', 'database', 'combined_score']\n",
    "for s in score_list:\n",
    "    print(s)\n",
    "    print(df_names[s].value_counts(bins=5,sort=False))\n",
    "    print()"
   ]
  },
  {
   "cell_type": "markdown",
   "id": "6f281f80",
   "metadata": {},
   "source": [
    "# extract union list graph from string"
   ]
  },
  {
   "cell_type": "code",
   "execution_count": 31,
   "id": "abc09c4d",
   "metadata": {},
   "outputs": [
    {
     "name": "stdout",
     "output_type": "stream",
     "text": [
      "numer rows 62\n"
     ]
    },
    {
     "data": {
      "text/html": [
       "<div>\n",
       "<style scoped>\n",
       "    .dataframe tbody tr th:only-of-type {\n",
       "        vertical-align: middle;\n",
       "    }\n",
       "\n",
       "    .dataframe tbody tr th {\n",
       "        vertical-align: top;\n",
       "    }\n",
       "\n",
       "    .dataframe thead th {\n",
       "        text-align: right;\n",
       "    }\n",
       "</style>\n",
       "<table border=\"1\" class=\"dataframe\">\n",
       "  <thead>\n",
       "    <tr style=\"text-align: right;\">\n",
       "      <th></th>\n",
       "      <th>protein1</th>\n",
       "      <th>protein2</th>\n",
       "      <th>coexpression</th>\n",
       "    </tr>\n",
       "  </thead>\n",
       "  <tbody>\n",
       "    <tr>\n",
       "      <th>0</th>\n",
       "      <td>MXRA5</td>\n",
       "      <td>ASPN</td>\n",
       "      <td>161</td>\n",
       "    </tr>\n",
       "    <tr>\n",
       "      <th>1</th>\n",
       "      <td>MXRA5</td>\n",
       "      <td>TGFBI</td>\n",
       "      <td>157</td>\n",
       "    </tr>\n",
       "    <tr>\n",
       "      <th>2</th>\n",
       "      <td>MXRA5</td>\n",
       "      <td>THY1</td>\n",
       "      <td>177</td>\n",
       "    </tr>\n",
       "    <tr>\n",
       "      <th>3</th>\n",
       "      <td>MXRA5</td>\n",
       "      <td>COL1A2</td>\n",
       "      <td>533</td>\n",
       "    </tr>\n",
       "    <tr>\n",
       "      <th>4</th>\n",
       "      <td>MXRA5</td>\n",
       "      <td>HTRA1</td>\n",
       "      <td>152</td>\n",
       "    </tr>\n",
       "  </tbody>\n",
       "</table>\n",
       "</div>"
      ],
      "text/plain": [
       "  protein1 protein2  coexpression\n",
       "0    MXRA5     ASPN           161\n",
       "1    MXRA5    TGFBI           157\n",
       "2    MXRA5     THY1           177\n",
       "3    MXRA5   COL1A2           533\n",
       "4    MXRA5    HTRA1           152"
      ]
     },
     "execution_count": 31,
     "metadata": {},
     "output_type": "execute_result"
    }
   ],
   "source": [
    "#'neighborhood', 'fusion', 'cooccurence', 'coexpression', 'experimental', 'database', 'combined_score'\n",
    "score_name = 'coexpression'\n",
    "treshold = 150\n",
    "df_names_score = df_names[['protein1', 'protein2', score_name]]\n",
    "df_names_score = df_names_score[df_names_score[score_name]>treshold]\n",
    "print('numer rows',len(df_names_score))\n",
    "df_names_score.head()"
   ]
  },
  {
   "cell_type": "code",
   "execution_count": 32,
   "id": "0c1ded19",
   "metadata": {},
   "outputs": [
    {
     "data": {
      "text/plain": [
       "19"
      ]
     },
     "execution_count": 32,
     "metadata": {},
     "output_type": "execute_result"
    }
   ],
   "source": [
    "len(\n",
    "    set(\n",
    "        list(\n",
    "            df_names_score['protein1'].unique()\n",
    "            ) +\n",
    "        list(\n",
    "            df_names_score['protein2'].unique()\n",
    "            )\n",
    "        )\n",
    "    )"
   ]
  },
  {
   "cell_type": "code",
   "execution_count": 39,
   "id": "59466cfa",
   "metadata": {},
   "outputs": [
    {
     "name": "stdout",
     "output_type": "stream",
     "text": [
      "Treshold coexpression > 150 rapresent the 12.0 % of the ppi full dataset:\n",
      "1432232 / 11938498\n"
     ]
    }
   ],
   "source": [
    "import numpy as np\n",
    "percent = np.round((len(plf[plf[score_name]>treshold])*100)/len(plf[score_name]),2)\n",
    "print('Treshold',score_name,'>',treshold,'rapresent the',percent,'% of the ppi full dataset:')\n",
    "print(len(plf[plf[score_name]>treshold]),'/',len(plf[score_name]))"
   ]
  },
  {
   "cell_type": "code",
   "execution_count": 67,
   "id": "6b349b47",
   "metadata": {},
   "outputs": [],
   "source": [
    "curr_protein_list = set(\n",
    "    list(\n",
    "        df_names_score['protein1'].unique()\n",
    "        ) +\n",
    "    list(\n",
    "        df_names_score['protein2'].unique()\n",
    "        )\n",
    "    )"
   ]
  },
  {
   "cell_type": "code",
   "execution_count": 68,
   "id": "13e2e9a9",
   "metadata": {},
   "outputs": [],
   "source": [
    "dfpd2 = dfpd[dfpd['target'].isin(curr_protein_list)]"
   ]
  },
  {
   "cell_type": "code",
   "execution_count": 69,
   "id": "37bccead",
   "metadata": {},
   "outputs": [
    {
     "data": {
      "text/plain": [
       "Index(['protein1', 'protein2', 'coexpression'], dtype='object')"
      ]
     },
     "execution_count": 69,
     "metadata": {},
     "output_type": "execute_result"
    }
   ],
   "source": [
    "dfpd2_new = dfpd2.copy()\n",
    "dfpd2_new.columns = ['protein1', 'protein2', score_name]\n",
    "dfpd2_new.columns"
   ]
  },
  {
   "cell_type": "code",
   "execution_count": 70,
   "id": "41c88d97",
   "metadata": {},
   "outputs": [],
   "source": [
    "frames = [df_names_score, dfpd2_new]\n",
    "\n",
    "result = pd.concat(frames)"
   ]
  },
  {
   "cell_type": "markdown",
   "id": "d0e6242e",
   "metadata": {},
   "source": [
    "# plotting graph"
   ]
  },
  {
   "cell_type": "code",
   "execution_count": 71,
   "id": "d8437516",
   "metadata": {},
   "outputs": [],
   "source": [
    "import networkx as nx\n",
    "import numpy as np\n",
    "\n",
    "G=nx.Graph(name='Protein Interaction Graph')\n",
    "interactions = np.array(result)\n",
    "for a,b,w in interactions:\n",
    "    w = float(w) # score as weighted edge where high scores = low weight\n",
    "    G.add_weighted_edges_from([(a,b,w)]) # add weighted edge to graph"
   ]
  },
  {
   "cell_type": "code",
   "execution_count": 72,
   "id": "28c556c2",
   "metadata": {
    "scrolled": false
   },
   "outputs": [],
   "source": [
    "target_gene_encoded = [k for k,v in dictUnion_gene2id.items() if k in target_gene and k in G.nodes]\n",
    "\n",
    "labels= {}\n",
    "for node in G.nodes():\n",
    "    labels[node]=node\n",
    "    "
   ]
  },
  {
   "cell_type": "code",
   "execution_count": 73,
   "id": "fd9d8ce2",
   "metadata": {},
   "outputs": [],
   "source": [
    "from matplotlib import pylab\n",
    "import matplotlib.pyplot as plt\n",
    "import networkx as nx\n",
    "\n",
    "edgelist = [cuple for cuple in G.edges() if cuple[0] in dfpd2['drug'].unique() or cuple[1] in dfpd2['drug'].unique()]\n",
    "#green: target\n",
    "#blue: diff. exp.\n",
    "def save_graph(graph, file_name):\n",
    "    #initialze Figure\n",
    "    plt.figure(num=None, figsize=(15, 15), dpi=220)\n",
    "    plt.axis('off')\n",
    "    fig = plt.figure(1)\n",
    "    pos = nx.spring_layout(graph)\n",
    "    nx.draw_networkx_nodes(graph,pos,labels,node_size=50)\n",
    "    \n",
    "    nx.draw_networkx_nodes(graph,pos,nodelist=dfpd2['drug'].unique(),node_shape='s',node_color='y', node_size=50)\n",
    "    \n",
    "    nx.draw_networkx_nodes(graph, pos, nodelist=target_gene_encoded, node_color='g', node_size=50)\n",
    "    \n",
    "    nx.draw_networkx_labels(graph,pos,labels,font_size=5,font_color='r')\n",
    "\n",
    "    nx.draw_networkx_edges(graph,pos)\n",
    "    \n",
    "    nx.draw_networkx_edges(graph,pos,edge_color='y', edgelist = edgelist, arrowsize = 1)\n",
    "\n",
    "    plt.savefig(file_name,bbox_inches=\"tight\")\n",
    "    pylab.close()\n",
    "    del fig\n",
    "\n",
    "\n",
    "name = \"graphs_pdf\\graph_gde_and_target_color_\"+score_name+'_'+str(treshold)+'withDrugs'+'_importance'+str(max_importance)+\".pdf\"\n",
    "save_graph(G, name)\n",
    "\n",
    "#it can also be saved in .svg, .png. or .ps formats"
   ]
  },
  {
   "cell_type": "code",
   "execution_count": null,
   "id": "3f3f6e63",
   "metadata": {},
   "outputs": [],
   "source": []
  }
 ],
 "metadata": {
  "kernelspec": {
   "display_name": "Python 3 (ipykernel)",
   "language": "python",
   "name": "python3"
  },
  "language_info": {
   "codemirror_mode": {
    "name": "ipython",
    "version": 3
   },
   "file_extension": ".py",
   "mimetype": "text/x-python",
   "name": "python",
   "nbconvert_exporter": "python",
   "pygments_lexer": "ipython3",
   "version": "3.9.7"
  }
 },
 "nbformat": 4,
 "nbformat_minor": 5
}
