{
 "cells": [
  {
   "cell_type": "code",
   "execution_count": 47,
   "id": "247faeaa",
   "metadata": {},
   "outputs": [],
   "source": [
    "import os\n",
    "import pandas as pd\n"
   ]
  },
  {
   "cell_type": "code",
   "execution_count": 48,
   "id": "84642ab4",
   "metadata": {},
   "outputs": [
    {
     "name": "stderr",
     "output_type": "stream",
     "text": [
      "C:\\ProgramData\\Anaconda3\\lib\\site-packages\\numpy\\lib\\arraysetops.py:583: FutureWarning: elementwise comparison failed; returning scalar instead, but in the future will perform elementwise comparison\n",
      "  mask |= (ar1 == a)\n"
     ]
    },
    {
     "name": "stdout",
     "output_type": "stream",
     "text": [
      "lenght rows: 11938498\n"
     ]
    },
    {
     "data": {
      "text/html": [
       "<div>\n",
       "<style scoped>\n",
       "    .dataframe tbody tr th:only-of-type {\n",
       "        vertical-align: middle;\n",
       "    }\n",
       "\n",
       "    .dataframe tbody tr th {\n",
       "        vertical-align: top;\n",
       "    }\n",
       "\n",
       "    .dataframe thead th {\n",
       "        text-align: right;\n",
       "    }\n",
       "</style>\n",
       "<table border=\"1\" class=\"dataframe\">\n",
       "  <thead>\n",
       "    <tr style=\"text-align: right;\">\n",
       "      <th></th>\n",
       "      <th>protein1</th>\n",
       "      <th>protein2</th>\n",
       "      <th>neighborhood</th>\n",
       "      <th>fusion</th>\n",
       "      <th>cooccurence</th>\n",
       "      <th>coexpression</th>\n",
       "      <th>experimental</th>\n",
       "      <th>database</th>\n",
       "      <th>combined_score</th>\n",
       "    </tr>\n",
       "  </thead>\n",
       "  <tbody>\n",
       "    <tr>\n",
       "      <th>0</th>\n",
       "      <td>ARF5</td>\n",
       "      <td>PDE1C</td>\n",
       "      <td>0</td>\n",
       "      <td>0</td>\n",
       "      <td>0</td>\n",
       "      <td>54</td>\n",
       "      <td>0</td>\n",
       "      <td>0</td>\n",
       "      <td>155</td>\n",
       "    </tr>\n",
       "    <tr>\n",
       "      <th>1</th>\n",
       "      <td>ARF5</td>\n",
       "      <td>PAK2</td>\n",
       "      <td>0</td>\n",
       "      <td>0</td>\n",
       "      <td>0</td>\n",
       "      <td>0</td>\n",
       "      <td>180</td>\n",
       "      <td>0</td>\n",
       "      <td>197</td>\n",
       "    </tr>\n",
       "    <tr>\n",
       "      <th>2</th>\n",
       "      <td>ARF5</td>\n",
       "      <td>RAB36</td>\n",
       "      <td>0</td>\n",
       "      <td>0</td>\n",
       "      <td>0</td>\n",
       "      <td>62</td>\n",
       "      <td>152</td>\n",
       "      <td>0</td>\n",
       "      <td>222</td>\n",
       "    </tr>\n",
       "    <tr>\n",
       "      <th>3</th>\n",
       "      <td>ARF5</td>\n",
       "      <td>RAPGEF1</td>\n",
       "      <td>0</td>\n",
       "      <td>0</td>\n",
       "      <td>0</td>\n",
       "      <td>0</td>\n",
       "      <td>161</td>\n",
       "      <td>0</td>\n",
       "      <td>181</td>\n",
       "    </tr>\n",
       "    <tr>\n",
       "      <th>4</th>\n",
       "      <td>ARF5</td>\n",
       "      <td>SUMO3</td>\n",
       "      <td>0</td>\n",
       "      <td>0</td>\n",
       "      <td>0</td>\n",
       "      <td>82</td>\n",
       "      <td>213</td>\n",
       "      <td>0</td>\n",
       "      <td>270</td>\n",
       "    </tr>\n",
       "  </tbody>\n",
       "</table>\n",
       "</div>"
      ],
      "text/plain": [
       "  protein1 protein2  neighborhood  fusion  cooccurence  coexpression  \\\n",
       "0     ARF5    PDE1C             0       0            0            54   \n",
       "1     ARF5     PAK2             0       0            0             0   \n",
       "2     ARF5    RAB36             0       0            0            62   \n",
       "3     ARF5  RAPGEF1             0       0            0             0   \n",
       "4     ARF5    SUMO3             0       0            0            82   \n",
       "\n",
       "   experimental  database  combined_score  \n",
       "0             0         0             155  \n",
       "1           180         0             197  \n",
       "2           152         0             222  \n",
       "3           161         0             181  \n",
       "4           213         0             270  "
      ]
     },
     "execution_count": 48,
     "metadata": {},
     "output_type": "execute_result"
    }
   ],
   "source": [
    "path_data = os.getcwd()+os.sep+'data'+os.sep\n",
    "ppi_names_full_score = pd.read_csv(path_data+'ppi_names_full_score.csv', index_col=0)\n",
    "print('lenght rows:', len(ppi_names_full_score))\n",
    "ppi_names_full_score.head()"
   ]
  },
  {
   "cell_type": "code",
   "execution_count": 49,
   "id": "09fe34aa",
   "metadata": {
    "scrolled": true
   },
   "outputs": [
    {
     "name": "stdout",
     "output_type": "stream",
     "text": [
      "neighborhood\n",
      "AxesSubplot(0.125,0.125;0.775x0.755)\n"
     ]
    },
    {
     "data": {
      "image/png": "[encoded data removed]",
      "text/plain": [
       "<Figure size 432x288 with 1 Axes>"
      ]
     },
     "metadata": {
      "needs_background": "light"
     },
     "output_type": "display_data"
    },
    {
     "name": "stdout",
     "output_type": "stream",
     "text": [
      "\n",
      "fusion\n",
      "AxesSubplot(0.125,0.125;0.775x0.755)\n"
     ]
    },
    {
     "data": {
      "image/png": "[encoded data removed]",
      "text/plain": [
       "<Figure size 432x288 with 1 Axes>"
      ]
     },
     "metadata": {
      "needs_background": "light"
     },
     "output_type": "display_data"
    },
    {
     "name": "stdout",
     "output_type": "stream",
     "text": [
      "\n",
      "cooccurence\n",
      "AxesSubplot(0.125,0.125;0.775x0.755)\n"
     ]
    },
    {
     "data": {
      "image/png": "[encoded data removed]",
      "text/plain": [
       "<Figure size 432x288 with 1 Axes>"
      ]
     },
     "metadata": {
      "needs_background": "light"
     },
     "output_type": "display_data"
    },
    {
     "name": "stdout",
     "output_type": "stream",
     "text": [
      "\n",
      "coexpression\n",
      "AxesSubplot(0.125,0.125;0.775x0.755)\n"
     ]
    },
    {
     "data": {
      "image/png": "[encoded data removed]",
      "text/plain": [
       "<Figure size 432x288 with 1 Axes>"
      ]
     },
     "metadata": {
      "needs_background": "light"
     },
     "output_type": "display_data"
    },
    {
     "name": "stdout",
     "output_type": "stream",
     "text": [
      "\n",
      "experimental\n",
      "AxesSubplot(0.125,0.125;0.775x0.755)\n"
     ]
    },
    {
     "data": {
      "image/png": "[encoded data removed]",
      "text/plain": [
       "<Figure size 432x288 with 1 Axes>"
      ]
     },
     "metadata": {
      "needs_background": "light"
     },
     "output_type": "display_data"
    },
    {
     "name": "stdout",
     "output_type": "stream",
     "text": [
      "\n",
      "database\n",
      "AxesSubplot(0.125,0.125;0.775x0.755)\n"
     ]
    },
    {
     "data": {
      "image/png": "[encoded data removed]",
      "text/plain": [
       "<Figure size 432x288 with 1 Axes>"
      ]
     },
     "metadata": {
      "needs_background": "light"
     },
     "output_type": "display_data"
    },
    {
     "name": "stdout",
     "output_type": "stream",
     "text": [
      "\n",
      "combined_score\n",
      "AxesSubplot(0.125,0.125;0.775x0.755)\n"
     ]
    },
    {
     "data": {
      "image/png": "[encoded data removed]",
      "text/plain": [
       "<Figure size 432x288 with 1 Axes>"
      ]
     },
     "metadata": {
      "needs_background": "light"
     },
     "output_type": "display_data"
    },
    {
     "name": "stdout",
     "output_type": "stream",
     "text": [
      "\n"
     ]
    }
   ],
   "source": [
    "import matplotlib.pyplot as plt\n",
    "score_list = ['neighborhood', 'fusion', 'cooccurence', 'coexpression', 'experimental', 'database', 'combined_score']\n",
    "for s in score_list:\n",
    "    print(s)\n",
    "    plt.figure()\n",
    "    print(ppi_names_full_score[s].value_counts(bins=5,sort=False).plot(kind='barh'))\n",
    "    plt.show()\n",
    "    print()"
   ]
  },
  {
   "cell_type": "code",
   "execution_count": 50,
   "id": "e14bd0be",
   "metadata": {
    "scrolled": true
   },
   "outputs": [
    {
     "name": "stdout",
     "output_type": "stream",
     "text": [
      "neighborhood\n",
      "(-0.386, 77.0]    11785162\n",
      "(77.0, 154.0]        75908\n",
      "(154.0, 231.0]       64322\n",
      "(231.0, 308.0]       11038\n",
      "(308.0, 385.0]        2068\n",
      "Name: neighborhood, dtype: int64\n",
      "\n",
      "fusion\n",
      "(-0.901, 180.0]    11934374\n",
      "(180.0, 360.0]         2522\n",
      "(360.0, 540.0]          886\n",
      "(540.0, 720.0]          624\n",
      "(720.0, 900.0]           92\n",
      "Name: fusion, dtype: int64\n",
      "\n",
      "cooccurence\n",
      "(-0.449, 89.6]    11883052\n",
      "(89.6, 179.2]        33974\n",
      "(179.2, 268.8]       14656\n",
      "(268.8, 358.4]        4596\n",
      "(358.4, 448.0]        2220\n",
      "Name: cooccurence, dtype: int64\n",
      "\n",
      "coexpression\n",
      "(-1.0, 199.8]     11266846\n",
      "(199.8, 399.6]      513378\n",
      "(399.6, 599.4]       80422\n",
      "(599.4, 799.2]       40520\n",
      "(799.2, 999.0]       37332\n",
      "Name: coexpression, dtype: int64\n",
      "\n",
      "experimental\n",
      "(-1.0, 199.8]     10897520\n",
      "(199.8, 399.6]      834414\n",
      "(399.6, 599.4]       75110\n",
      "(599.4, 799.2]       58700\n",
      "(799.2, 999.0]       72754\n",
      "Name: experimental, dtype: int64\n",
      "\n",
      "database\n",
      "(-0.901, 180.0]    11537060\n",
      "(180.0, 360.0]        14102\n",
      "(360.0, 540.0]        35290\n",
      "(540.0, 720.0]       168848\n",
      "(720.0, 900.0]       183198\n",
      "Name: database, dtype: int64\n",
      "\n",
      "combined_score\n",
      "(149.15, 319.8]    9130000\n",
      "(319.8, 489.6]     1615290\n",
      "(489.6, 659.4]      595086\n",
      "(659.4, 829.2]      279308\n",
      "(829.2, 999.0]      318814\n",
      "Name: combined_score, dtype: int64\n",
      "\n"
     ]
    }
   ],
   "source": [
    "import matplotlib.pyplot as plt\n",
    "score_list = ['neighborhood', 'fusion', 'cooccurence', 'coexpression', 'experimental', 'database', 'combined_score']\n",
    "for s in score_list:\n",
    "    print(s)\n",
    "    print(ppi_names_full_score[s].value_counts(bins=5,sort=False))\n",
    "    print()"
   ]
  },
  {
   "cell_type": "code",
   "execution_count": 51,
   "id": "38e7b766",
   "metadata": {},
   "outputs": [
    {
     "name": "stdout",
     "output_type": "stream",
     "text": [
      "lenght full proteins: 19382\n"
     ]
    }
   ],
   "source": [
    "list_full_protein = list(\n",
    "    set(\n",
    "        list(set(ppi_names_full_score['protein1']))+\n",
    "        list(set(ppi_names_full_score['protein2']))\n",
    "    )\n",
    ")\n",
    "print('lenght full proteins:',len(list_full_protein))"
   ]
  },
  {
   "cell_type": "markdown",
   "id": "5f5b2557",
   "metadata": {},
   "source": [
    "## choose score and tresholding"
   ]
  },
  {
   "cell_type": "code",
   "execution_count": 52,
   "id": "aeea93da",
   "metadata": {},
   "outputs": [
    {
     "name": "stdout",
     "output_type": "stream",
     "text": [
      "numer rows 357792\n"
     ]
    },
    {
     "data": {
      "text/html": [
       "<div>\n",
       "<style scoped>\n",
       "    .dataframe tbody tr th:only-of-type {\n",
       "        vertical-align: middle;\n",
       "    }\n",
       "\n",
       "    .dataframe tbody tr th {\n",
       "        vertical-align: top;\n",
       "    }\n",
       "\n",
       "    .dataframe thead th {\n",
       "        text-align: right;\n",
       "    }\n",
       "</style>\n",
       "<table border=\"1\" class=\"dataframe\">\n",
       "  <thead>\n",
       "    <tr style=\"text-align: right;\">\n",
       "      <th></th>\n",
       "      <th>protein1</th>\n",
       "      <th>protein2</th>\n",
       "      <th>combined_score</th>\n",
       "    </tr>\n",
       "  </thead>\n",
       "  <tbody>\n",
       "    <tr>\n",
       "      <th>160</th>\n",
       "      <td>ARF5</td>\n",
       "      <td>ARFGAP3</td>\n",
       "      <td>877</td>\n",
       "    </tr>\n",
       "    <tr>\n",
       "      <th>187</th>\n",
       "      <td>ARF5</td>\n",
       "      <td>ARF1</td>\n",
       "      <td>969</td>\n",
       "    </tr>\n",
       "    <tr>\n",
       "      <th>401</th>\n",
       "      <td>ARF5</td>\n",
       "      <td>GORAB</td>\n",
       "      <td>914</td>\n",
       "    </tr>\n",
       "    <tr>\n",
       "      <th>565</th>\n",
       "      <td>ARF5</td>\n",
       "      <td>RAB28</td>\n",
       "      <td>936</td>\n",
       "    </tr>\n",
       "    <tr>\n",
       "      <th>944</th>\n",
       "      <td>ARF5</td>\n",
       "      <td>ASAP1</td>\n",
       "      <td>879</td>\n",
       "    </tr>\n",
       "  </tbody>\n",
       "</table>\n",
       "</div>"
      ],
      "text/plain": [
       "    protein1 protein2  combined_score\n",
       "160     ARF5  ARFGAP3             877\n",
       "187     ARF5     ARF1             969\n",
       "401     ARF5    GORAB             914\n",
       "565     ARF5    RAB28             936\n",
       "944     ARF5    ASAP1             879"
      ]
     },
     "execution_count": 52,
     "metadata": {},
     "output_type": "execute_result"
    }
   ],
   "source": [
    "#'neighborhood', 'fusion', 'cooccurence', 'coexpression', 'experimental', 'database', 'combined_score'\n",
    "\n",
    "score_name = 'combined_score'\n",
    "treshold = 800\n",
    "\n",
    "df_names_score = ppi_names_full_score[['protein1', 'protein2', score_name]]\n",
    "df_names_score = df_names_score[df_names_score[score_name]>treshold]\n",
    "print('numer rows',len(df_names_score))\n",
    "df_names_score.head()"
   ]
  },
  {
   "cell_type": "code",
   "execution_count": 53,
   "id": "3c32c90e",
   "metadata": {},
   "outputs": [
    {
     "name": "stdout",
     "output_type": "stream",
     "text": [
      "Treshold combined_score > 800 rapresent the 3.0 % of the ppi full dataset:\n",
      "357792 / 11938498\n"
     ]
    }
   ],
   "source": [
    "import numpy as np\n",
    "percent = np.round((len(ppi_names_full_score[ppi_names_full_score[score_name]>treshold])*100)/len(ppi_names_full_score[score_name]),2)\n",
    "print('Treshold',score_name,'>',treshold,'rapresent the',percent,'% of the ppi full dataset:')\n",
    "print(len(ppi_names_full_score[ppi_names_full_score[score_name]>treshold]),'/',len(ppi_names_full_score[score_name]))"
   ]
  },
  {
   "cell_type": "code",
   "execution_count": 54,
   "id": "53095bef",
   "metadata": {},
   "outputs": [
    {
     "name": "stdout",
     "output_type": "stream",
     "text": [
      "lenght proteins: 14171\n"
     ]
    }
   ],
   "source": [
    "curr_list_protein = list(\n",
    "    set(\n",
    "        list(set(df_names_score['protein1']))+\n",
    "        list(set(df_names_score['protein2']))\n",
    "    )\n",
    ")\n",
    "print('lenght proteins:',len(curr_list_protein))"
   ]
  },
  {
   "cell_type": "markdown",
   "id": "722a946f",
   "metadata": {},
   "source": [
    "# open gene d.e. and gene target"
   ]
  },
  {
   "cell_type": "code",
   "execution_count": 55,
   "id": "1e541ec8",
   "metadata": {},
   "outputs": [
    {
     "name": "stdout",
     "output_type": "stream",
     "text": [
      "['CRLF1', 'COL1A2', 'MXRA5', 'THY1', 'HTRA1', 'MT1H', 'SLPI', 'COL5A1', 'AQP1', 'TPPP3', 'TGFBI', 'BEX2', 'ASPN']\n",
      "\n",
      "lenght gene d.e. : 13\n"
     ]
    }
   ],
   "source": [
    "import pickle\n",
    "\n",
    "with open(path_data+\"gene_de_intersection_list\", \"rb\") as fp:   # Unpickling\n",
    "    gene_de_intersection_list = pickle.load(fp)\n",
    "gene_de_intersection_list = list(set(gene_de_intersection_list))\n",
    "print(gene_de_intersection_list)\n",
    "print('\\nlenght gene d.e. :',len(gene_de_intersection_list))"
   ]
  },
  {
   "cell_type": "code",
   "execution_count": 56,
   "id": "25ecc164",
   "metadata": {},
   "outputs": [
    {
     "name": "stdout",
     "output_type": "stream",
     "text": [
      "['PDF', 'ABCC9', 'Bact mrcA', 'PTGS1', 'TBXA2R', 'PPARG', 'SLC46A1', 'PRKACA', 'PRKCA', 'CYP19A1', 'ESR1', 'SCN5A', 'CACNA1G', 'GRIN1', 'PDE4D', 'DRD2', 'F10', 'GABRG3', 'SLC19A1', 'PTGER2', 'GRIN2A', 'HRH1', 'ROCK1', 'ADORA3', 'LIPE', 'NQO2', 'GRIN2B', 'MTNR1A', 'PDE5A', 'SLC6A2', 'Stap-coc pbp2', 'ABCC8', 'PTGS2', 'GABBR2', 'HSV UL30', 'CHRM5', 'GABBR1', 'NR3C1']\n",
      "\n",
      "lenght gene target : 38\n"
     ]
    }
   ],
   "source": [
    "f = open(path_data+\"prioritization_targets_top5percent.txt\", \"r\")\n",
    "gene_target = f.read()\n",
    "gene_target = gene_target.split(\"\\n\")\n",
    "gene_target.remove('')\n",
    "gene_target = list(set(gene_target))\n",
    "print(gene_target)\n",
    "print('\\nlenght gene target :',len(gene_target))"
   ]
  },
  {
   "cell_type": "code",
   "execution_count": 57,
   "id": "589bdf8c",
   "metadata": {},
   "outputs": [
    {
     "name": "stdout",
     "output_type": "stream",
     "text": [
      "lenght union gene d.e. and gene target : 51\n"
     ]
    }
   ],
   "source": [
    "set_gene_full = list(set(gene_de_intersection_list+gene_target))\n",
    "len(set_gene_full)\n",
    "print('lenght union gene d.e. and gene target :',len(set_gene_full))"
   ]
  },
  {
   "cell_type": "code",
   "execution_count": 58,
   "id": "bcb9b385",
   "metadata": {
    "scrolled": true
   },
   "outputs": [
    {
     "name": "stdout",
     "output_type": "stream",
     "text": [
      "finding proteing from union and not in ppi proteins\n",
      "\n",
      "Bact mrcA absent\n",
      "TPPP3 absent\n",
      "GABRG3 absent\n",
      "NQO2 absent\n",
      "Stap-coc pbp2 absent\n",
      "HSV UL30 absent\n",
      "MXRA5 absent\n",
      "\n",
      "Number of absent proteins: 7\n"
     ]
    }
   ],
   "source": [
    "print('finding proteing from union and not in ppi proteins\\n')\n",
    "k = 0\n",
    "for name in set_gene_full:\n",
    "    if name not in curr_list_protein:\n",
    "        print(name,'absent')\n",
    "        set_gene_full.remove(name)\n",
    "        k+=1\n",
    "print('\\nNumber of absent proteins:',k)"
   ]
  },
  {
   "cell_type": "markdown",
   "id": "dc094bd4",
   "metadata": {},
   "source": [
    "## take protein near my gene target list by one step"
   ]
  },
  {
   "cell_type": "code",
   "execution_count": 59,
   "id": "7d55c540",
   "metadata": {},
   "outputs": [],
   "source": [
    "import networkx as nx\n",
    "import numpy as np\n",
    "\n",
    "G=nx.Graph(name='Protein Interaction Graph')\n",
    "interactions = df_names_score.values\n",
    "for a,b,w in interactions:\n",
    "    # w = float(w) # score as weighted edge where high scores = low weight\n",
    "    G.add_weighted_edges_from([(a,b,int(1))]) # add weighted edge to graph"
   ]
  },
  {
   "cell_type": "code",
   "execution_count": 60,
   "id": "644305c9",
   "metadata": {},
   "outputs": [
    {
     "name": "stdout",
     "output_type": "stream",
     "text": [
      "1007\n",
      "986\n"
     ]
    }
   ],
   "source": [
    "neighbors = []\n",
    "for protein in gene_target:\n",
    "    if protein in G.nodes():\n",
    "        for neighbor in G.neighbors(protein):\n",
    "            neighbors.append(neighbor)\n",
    "\n",
    "neighbors = list(set(neighbors))\n",
    "print(len(neighbors))\n",
    "neighbors = [protein for protein in neighbors if protein not in set_gene_full]\n",
    "print(len(neighbors))"
   ]
  },
  {
   "cell_type": "markdown",
   "id": "11a68d0b",
   "metadata": {},
   "source": [
    "## modify dataframe interaction taking only union genes and neighbors"
   ]
  },
  {
   "cell_type": "code",
   "execution_count": 38,
   "id": "90108909",
   "metadata": {},
   "outputs": [],
   "source": [
    "union_neighbors = set_gene_full + neighbors"
   ]
  },
  {
   "cell_type": "code",
   "execution_count": 39,
   "id": "2ca59b2f",
   "metadata": {},
   "outputs": [],
   "source": [
    "bool_p1 = list(map(lambda x: (x in union_neighbors) , df_names_score['protein1']))\n",
    "df_names_score_cropped = df_names_score[bool_p1]"
   ]
  },
  {
   "cell_type": "code",
   "execution_count": 40,
   "id": "a358aac8",
   "metadata": {},
   "outputs": [],
   "source": [
    "bool_p2 = list(map(lambda x: (x in union_neighbors) , df_names_score_cropped['protein2']))\n",
    "df_names_score_cropped = df_names_score_cropped[bool_p2]"
   ]
  },
  {
   "cell_type": "code",
   "execution_count": 41,
   "id": "8cd61f0e",
   "metadata": {},
   "outputs": [
    {
     "name": "stdout",
     "output_type": "stream",
     "text": [
      "len: 27606\n"
     ]
    },
    {
     "data": {
      "text/html": [
       "<div>\n",
       "<style scoped>\n",
       "    .dataframe tbody tr th:only-of-type {\n",
       "        vertical-align: middle;\n",
       "    }\n",
       "\n",
       "    .dataframe tbody tr th {\n",
       "        vertical-align: top;\n",
       "    }\n",
       "\n",
       "    .dataframe thead th {\n",
       "        text-align: right;\n",
       "    }\n",
       "</style>\n",
       "<table border=\"1\" class=\"dataframe\">\n",
       "  <thead>\n",
       "    <tr style=\"text-align: right;\">\n",
       "      <th></th>\n",
       "      <th>protein1</th>\n",
       "      <th>protein2</th>\n",
       "      <th>combined_score</th>\n",
       "    </tr>\n",
       "  </thead>\n",
       "  <tbody>\n",
       "    <tr>\n",
       "      <th>2100</th>\n",
       "      <td>FKBP4</td>\n",
       "      <td>DYNLL2</td>\n",
       "      <td>910</td>\n",
       "    </tr>\n",
       "    <tr>\n",
       "      <th>2169</th>\n",
       "      <td>FKBP4</td>\n",
       "      <td>MAPK1</td>\n",
       "      <td>909</td>\n",
       "    </tr>\n",
       "    <tr>\n",
       "      <th>2217</th>\n",
       "      <td>FKBP4</td>\n",
       "      <td>ACTR10</td>\n",
       "      <td>906</td>\n",
       "    </tr>\n",
       "    <tr>\n",
       "      <th>2320</th>\n",
       "      <td>FKBP4</td>\n",
       "      <td>HSP90AB1</td>\n",
       "      <td>977</td>\n",
       "    </tr>\n",
       "    <tr>\n",
       "      <th>2412</th>\n",
       "      <td>FKBP4</td>\n",
       "      <td>AR</td>\n",
       "      <td>992</td>\n",
       "    </tr>\n",
       "  </tbody>\n",
       "</table>\n",
       "</div>"
      ],
      "text/plain": [
       "     protein1  protein2  combined_score\n",
       "2100    FKBP4    DYNLL2             910\n",
       "2169    FKBP4     MAPK1             909\n",
       "2217    FKBP4    ACTR10             906\n",
       "2320    FKBP4  HSP90AB1             977\n",
       "2412    FKBP4        AR             992"
      ]
     },
     "execution_count": 41,
     "metadata": {},
     "output_type": "execute_result"
    }
   ],
   "source": [
    "print('len:',len(df_names_score_cropped))\n",
    "df_names_score_cropped.head()"
   ]
  },
  {
   "cell_type": "code",
   "execution_count": null,
   "id": "0a3fc537",
   "metadata": {},
   "outputs": [],
   "source": []
  },
  {
   "cell_type": "markdown",
   "id": "9bae3982",
   "metadata": {},
   "source": [
    "# open dataset drugs - genes target"
   ]
  },
  {
   "cell_type": "code",
   "execution_count": 42,
   "id": "d37a2ab4",
   "metadata": {},
   "outputs": [
    {
     "name": "stdout",
     "output_type": "stream",
     "text": [
      "df_drugs_gene columns : Index(['Drug', 'Targets'], dtype='object')\n",
      "rows number : 566\n"
     ]
    },
    {
     "data": {
      "text/html": [
       "<div>\n",
       "<style scoped>\n",
       "    .dataframe tbody tr th:only-of-type {\n",
       "        vertical-align: middle;\n",
       "    }\n",
       "\n",
       "    .dataframe tbody tr th {\n",
       "        vertical-align: top;\n",
       "    }\n",
       "\n",
       "    .dataframe thead th {\n",
       "        text-align: right;\n",
       "    }\n",
       "</style>\n",
       "<table border=\"1\" class=\"dataframe\">\n",
       "  <thead>\n",
       "    <tr style=\"text-align: right;\">\n",
       "      <th></th>\n",
       "      <th>Drug</th>\n",
       "      <th>Targets</th>\n",
       "    </tr>\n",
       "  </thead>\n",
       "  <tbody>\n",
       "    <tr>\n",
       "      <th>4</th>\n",
       "      <td>papaverine</td>\n",
       "      <td>PDE5A, PDE4D</td>\n",
       "    </tr>\n",
       "    <tr>\n",
       "      <th>5</th>\n",
       "      <td>pioglitazone</td>\n",
       "      <td>PPARG</td>\n",
       "    </tr>\n",
       "    <tr>\n",
       "      <th>7</th>\n",
       "      <td>mephenytoin</td>\n",
       "      <td>SCN5A</td>\n",
       "    </tr>\n",
       "    <tr>\n",
       "      <th>8</th>\n",
       "      <td>fulvestrant</td>\n",
       "      <td>ESR1</td>\n",
       "    </tr>\n",
       "    <tr>\n",
       "      <th>9</th>\n",
       "      <td>alprostadil</td>\n",
       "      <td>TBXA2R, PTGER2</td>\n",
       "    </tr>\n",
       "  </tbody>\n",
       "</table>\n",
       "</div>"
      ],
      "text/plain": [
       "           Drug         Targets\n",
       "4    papaverine    PDE5A, PDE4D\n",
       "5  pioglitazone           PPARG\n",
       "7   mephenytoin           SCN5A\n",
       "8   fulvestrant            ESR1\n",
       "9   alprostadil  TBXA2R, PTGER2"
      ]
     },
     "execution_count": 42,
     "metadata": {},
     "output_type": "execute_result"
    }
   ],
   "source": [
    "import pandas as pd\n",
    "\n",
    "file_name = 'gene2drug_OA_UPandDN-corretto-TTD.xlsx'\n",
    "df_drugs_gene = pd.read_excel(path_data+file_name)\n",
    "df_drugs_gene = df_drugs_gene[['Drug','Targets']]\n",
    "df_drugs_gene = df_drugs_gene.dropna()\n",
    "print('df_drugs_gene columns :',df_drugs_gene.columns)\n",
    "print('rows number :',len(df_drugs_gene))\n",
    "df_drugs_gene.head()"
   ]
  },
  {
   "cell_type": "markdown",
   "id": "1c31aa47",
   "metadata": {},
   "source": [
    "## choose the maximum importance to be considered"
   ]
  },
  {
   "cell_type": "code",
   "execution_count": 43,
   "id": "20e9c38a",
   "metadata": {},
   "outputs": [
    {
     "name": "stdout",
     "output_type": "stream",
     "text": [
      "lenght: 30\n"
     ]
    },
    {
     "data": {
      "text/html": [
       "<div>\n",
       "<style scoped>\n",
       "    .dataframe tbody tr th:only-of-type {\n",
       "        vertical-align: middle;\n",
       "    }\n",
       "\n",
       "    .dataframe tbody tr th {\n",
       "        vertical-align: top;\n",
       "    }\n",
       "\n",
       "    .dataframe thead th {\n",
       "        text-align: right;\n",
       "    }\n",
       "</style>\n",
       "<table border=\"1\" class=\"dataframe\">\n",
       "  <thead>\n",
       "    <tr style=\"text-align: right;\">\n",
       "      <th></th>\n",
       "      <th>drug</th>\n",
       "      <th>target</th>\n",
       "      <th>score</th>\n",
       "    </tr>\n",
       "  </thead>\n",
       "  <tbody>\n",
       "    <tr>\n",
       "      <th>0</th>\n",
       "      <td>papaverine</td>\n",
       "      <td>PDE5A</td>\n",
       "      <td>1</td>\n",
       "    </tr>\n",
       "    <tr>\n",
       "      <th>1</th>\n",
       "      <td>papaverine</td>\n",
       "      <td>PDE4D</td>\n",
       "      <td>1</td>\n",
       "    </tr>\n",
       "    <tr>\n",
       "      <th>2</th>\n",
       "      <td>pioglitazone</td>\n",
       "      <td>PPARG</td>\n",
       "      <td>1</td>\n",
       "    </tr>\n",
       "    <tr>\n",
       "      <th>3</th>\n",
       "      <td>mephenytoin</td>\n",
       "      <td>SCN5A</td>\n",
       "      <td>1</td>\n",
       "    </tr>\n",
       "    <tr>\n",
       "      <th>4</th>\n",
       "      <td>fulvestrant</td>\n",
       "      <td>ESR1</td>\n",
       "      <td>1</td>\n",
       "    </tr>\n",
       "  </tbody>\n",
       "</table>\n",
       "</div>"
      ],
      "text/plain": [
       "           drug target  score\n",
       "0    papaverine  PDE5A      1\n",
       "1    papaverine  PDE4D      1\n",
       "2  pioglitazone  PPARG      1\n",
       "3   mephenytoin  SCN5A      1\n",
       "4   fulvestrant   ESR1      1"
      ]
     },
     "execution_count": 43,
     "metadata": {},
     "output_type": "execute_result"
    }
   ],
   "source": [
    "max_importance = 50\n",
    "\n",
    "\n",
    "df_drug_target_importance = []\n",
    "for index in df_drugs_gene.index:\n",
    "    if index > max_importance:\n",
    "        break\n",
    "    drug = df_drugs_gene[df_drugs_gene.index == index].values[0][0]\n",
    "    targets = df_drugs_gene[df_drugs_gene.index == index].values[0][1].split(', ')\n",
    "    for target in targets:\n",
    "        df_drug_target_importance.append([drug,target,1])\n",
    "    \n",
    "df_drug_target_importance = pd.DataFrame(df_drug_target_importance, columns = ['drug', 'target','score'])\n",
    "print('lenght:', len(df_drug_target_importance))\n",
    "df_drug_target_importance.head()"
   ]
  },
  {
   "cell_type": "code",
   "execution_count": 44,
   "id": "735e9cd9",
   "metadata": {},
   "outputs": [
    {
     "name": "stdout",
     "output_type": "stream",
     "text": [
      "lenght: 25\n"
     ]
    }
   ],
   "source": [
    "# filtering considering only gene in union_neighbors\n",
    "df_drug_target_importance = df_drug_target_importance[df_drug_target_importance['target'].isin(union_neighbors)]\n",
    "print('lenght:', len(df_drug_target_importance))"
   ]
  },
  {
   "cell_type": "markdown",
   "id": "fbc82a40",
   "metadata": {},
   "source": [
    "# build dataset ppi + drug protein interaction"
   ]
  },
  {
   "cell_type": "code",
   "execution_count": 45,
   "id": "f42e89a1",
   "metadata": {},
   "outputs": [
    {
     "data": {
      "text/plain": [
       "Index(['protein1', 'protein2', 'combined_score'], dtype='object')"
      ]
     },
     "execution_count": 45,
     "metadata": {},
     "output_type": "execute_result"
    }
   ],
   "source": [
    "df_drug_target_importance_new = df_drug_target_importance.copy()\n",
    "df_drug_target_importance_new.columns = ['protein1', 'protein2', score_name]\n",
    "df_drug_target_importance_new.columns"
   ]
  },
  {
   "cell_type": "code",
   "execution_count": 46,
   "id": "473489df",
   "metadata": {},
   "outputs": [],
   "source": [
    "concat = [df_names_score_cropped, df_drug_target_importance_new]\n",
    "\n",
    "multiRelational = pd.concat(concat)"
   ]
  },
  {
   "cell_type": "markdown",
   "id": "b774b9bd",
   "metadata": {},
   "source": [
    "# plotting graph"
   ]
  },
  {
   "cell_type": "code",
   "execution_count": 24,
   "id": "9dbae779",
   "metadata": {},
   "outputs": [],
   "source": [
    "import networkx as nx\n",
    "import numpy as np\n",
    "\n",
    "G=nx.Graph(name='Multi-relational Graph')\n",
    "interactions = multiRelational.values\n",
    "for a,b,w in interactions:\n",
    "    # w = float(w) # score as weighted edge where high scores = low weight\n",
    "    G.add_weighted_edges_from([(a,b,int(1))]) # add weighted edge to graph"
   ]
  },
  {
   "cell_type": "code",
   "execution_count": 25,
   "id": "50ed8c55",
   "metadata": {},
   "outputs": [
    {
     "name": "stdout",
     "output_type": "stream",
     "text": [
      "number of nodes: 3540\n",
      "number of edges: 105355\n"
     ]
    }
   ],
   "source": [
    "print('number of nodes:',len(G.nodes()))\n",
    "print('number of edges:',len(G.edges()))"
   ]
  },
  {
   "cell_type": "code",
   "execution_count": 26,
   "id": "2ab55221",
   "metadata": {},
   "outputs": [
    {
     "name": "stdout",
     "output_type": "stream",
     "text": [
      "38\n",
      "35\n"
     ]
    }
   ],
   "source": [
    "print(len(gene_target))\n",
    "gene_target = [gene for gene in gene_target if gene in G.nodes()]\n",
    "print(len(gene_target))"
   ]
  },
  {
   "cell_type": "code",
   "execution_count": 27,
   "id": "9a3d9fd8",
   "metadata": {},
   "outputs": [],
   "source": [
    "labels= {}\n",
    "for node in G.nodes():\n",
    "    labels[node]=node"
   ]
  },
  {
   "cell_type": "code",
   "execution_count": 28,
   "id": "6a81c002",
   "metadata": {},
   "outputs": [],
   "source": [
    "from matplotlib import pylab\n",
    "import matplotlib.pyplot as plt\n",
    "import networkx as nx\n",
    "\n",
    "edgelist_drug_protein = [cuple for cuple in G.edges() if cuple[0] in df_drug_target_importance['drug'].unique() or cuple[1] in df_drug_target_importance['drug'].unique()]\n",
    "\n",
    "#green: target\n",
    "#blue: diff. exp.\n",
    "#grey: neighbors\n",
    "#yellow: drugs\n",
    "\n",
    "def save_graph(graph, file_name):\n",
    "    #initialze Figure\n",
    "    plt.figure(num=None, figsize=(15, 15), dpi=220)\n",
    "    plt.axis('off')\n",
    "    fig = plt.figure(1)\n",
    "    pos = nx.spring_layout(graph)\n",
    "    \n",
    "    # plot node gene names\n",
    "    nx.draw_networkx_nodes(graph,pos,labels,node_size=50)\n",
    "    \n",
    "    # plot node drugs node (shape = square, color = yellow)\n",
    "    nx.draw_networkx_nodes(graph,pos,nodelist=df_drug_target_importance['drug'].unique(),node_shape='s',node_color='y', node_size=50)\n",
    "    \n",
    "    # plot node neighbors gene (gray)\n",
    "    nx.draw_networkx_nodes(graph, pos, nodelist=neighbors, node_color='gray', node_size=50)\n",
    "    \n",
    "    # plot node target gene (green)\n",
    "    nx.draw_networkx_nodes(graph, pos, nodelist=gene_target, node_color='g', node_size=50)\n",
    "    \n",
    "    # adjust node labels\n",
    "    nx.draw_networkx_labels(graph,pos,labels,font_size=5,font_color='r')\n",
    "    \n",
    "    # plot edges\n",
    "    nx.draw_networkx_edges(graph,pos)\n",
    "    \n",
    "    # plot edge drug-protein (color = yellow)\n",
    "    nx.draw_networkx_edges(graph,pos,edge_color='y', edgelist = edgelist_drug_protein, arrowsize = 1)\n",
    "\n",
    "    plt.savefig(file_name,bbox_inches=\"tight\")\n",
    "    pylab.close()\n",
    "    del fig\n",
    "\n",
    "path_img = os.getcwd()+os.sep+'images_output'+os.sep\n",
    "name = path_img+\"graph_gde_and_target_and_neighbors_\"+score_name+'_'+str(treshold)+'_'+'drugs_importance'+str(max_importance)+\".pdf\"\n",
    "save_graph(G, name)\n"
   ]
  },
  {
   "cell_type": "code",
   "execution_count": null,
   "id": "39495b58",
   "metadata": {},
   "outputs": [],
   "source": []
  },
  {
   "cell_type": "markdown",
   "id": "ac81d01c",
   "metadata": {
    "scrolled": true
   },
   "source": [
    "#!neato -V\n",
    "#os.listdir(r'C:\\Program Files\\Graphviz\\bin')\n",
    "import os\n",
    "import glob\n",
    "paths = os.environ[\"PATH\"]\n",
    "#print(paths,'\\n')\n",
    "for path in paths.split(os.pathsep):\n",
    "    print(path)\n",
    "    match=glob.glob(os.path.join(path,'neato'))\n",
    "    if match:\n",
    "        print(match[0])\n",
    "\n",
    "\n",
    "\n",
    "path = 'c:\\ProgramData\\Anaconda3\\lib\\site-packages'\n",
    "match = glob.glob(os.path.join(path,'neato'))\n",
    "if match:\n",
    "    print(match[0])\n",
    "\n",
    "import sys\n",
    "#sys.path.append(match[0])\n",
    "sys.path\n",
    "\n",
    "\n",
    "path = 'c:\\ProgramData\\Anaconda3\\lib\\site-packages'\n",
    "os.listdir(path)"
   ]
  },
  {
   "cell_type": "code",
   "execution_count": null,
   "id": "af343818",
   "metadata": {},
   "outputs": [],
   "source": []
  }
 ],
 "metadata": {
  "kernelspec": {
   "display_name": "Python 3 (ipykernel)",
   "language": "python",
   "name": "python3"
  },
  "language_info": {
   "codemirror_mode": {
    "name": "ipython",
    "version": 3
   },
   "file_extension": ".py",
   "mimetype": "text/x-python",
   "name": "python",
   "nbconvert_exporter": "python",
   "pygments_lexer": "ipython3",
   "version": "3.9.7"
  }
 },
 "nbformat": 4,
 "nbformat_minor": 5
}
